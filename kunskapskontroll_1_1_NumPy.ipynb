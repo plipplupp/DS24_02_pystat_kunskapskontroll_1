{
 "cells": [
  {
   "cell_type": "markdown",
   "id": "dacf74e6",
   "metadata": {},
   "source": [
    "# NumPy"
   ]
  },
  {
   "cell_type": "markdown",
   "id": "01b2bf34",
   "metadata": {},
   "source": [
    "Read the links: https://numpy.org/doc/stable/user/quickstart.html  and https://numpy.org/doc/stable/user/basics.broadcasting.html  before solving the exercises. "
   ]
  },
  {
   "cell_type": "code",
   "execution_count": 2388,
   "id": "1f79e4a6",
   "metadata": {},
   "outputs": [],
   "source": [
    "import numpy as np"
   ]
  },
  {
   "cell_type": "markdown",
   "id": "7dae6889",
   "metadata": {},
   "source": [
    "### Print out the dimension (number of axes), shape, size and the datatype of the matrix A."
   ]
  },
  {
   "cell_type": "code",
   "execution_count": 2389,
   "id": "7b3678cd",
   "metadata": {},
   "outputs": [],
   "source": [
    "A = np.arange(1, 16).reshape(3,5)"
   ]
  },
  {
   "cell_type": "code",
   "execution_count": 2390,
   "id": "31d39235",
   "metadata": {},
   "outputs": [
    {
     "name": "stdout",
     "output_type": "stream",
     "text": [
      "Arrayen har 2 dimensioner\n",
      "Storleken på varje dimension är (3, 5)\n",
      "Totala antalet element i A är 15\n",
      "Typen av element i arrayen är: int64.\n"
     ]
    }
   ],
   "source": [
    "print(f\"Arrayen har {A.ndim} dimensioner\")\n",
    "print(f\"Storleken på varje dimension är {A.shape}\")\n",
    "print(f\"Totala antalet element i A är {A.size}\")\n",
    "print(f\"Typen av element i arrayen är: {A.dtype}.\")"
   ]
  },
  {
   "cell_type": "markdown",
   "id": "e56d2a96",
   "metadata": {},
   "source": [
    "### Do the following computations on the matrices B and C: \n",
    "* Elementwise subtraction. \n",
    "* Elementwise multiplication. \n",
    "* Matrix multiplication (by default you should use the @ operator)."
   ]
  },
  {
   "cell_type": "code",
   "execution_count": 2391,
   "id": "a7053fbb",
   "metadata": {},
   "outputs": [
    {
     "name": "stdout",
     "output_type": "stream",
     "text": [
      "[[1 2 3]\n",
      " [4 5 6]\n",
      " [7 8 9]]\n",
      "\n",
      "[[2. 2. 2.]\n",
      " [2. 2. 2.]\n",
      " [2. 2. 2.]]\n"
     ]
    }
   ],
   "source": [
    "B = np.arange(1, 10).reshape(3, 3)\n",
    "C = np.ones((3, 3))*2\n",
    "\n",
    "print(B)\n",
    "print()\n",
    "print(C)"
   ]
  },
  {
   "cell_type": "code",
   "execution_count": 2392,
   "id": "3cd794ae",
   "metadata": {},
   "outputs": [
    {
     "name": "stdout",
     "output_type": "stream",
     "text": [
      "[[-1.  0.  1.]\n",
      " [ 2.  3.  4.]\n",
      " [ 5.  6.  7.]]\n",
      "\n",
      "[[ 2.  4.  6.]\n",
      " [ 8. 10. 12.]\n",
      " [14. 16. 18.]]\n",
      "\n",
      "[[12. 12. 12.]\n",
      " [30. 30. 30.]\n",
      " [48. 48. 48.]]\n"
     ]
    }
   ],
   "source": [
    "print(B-C)\n",
    "print()\n",
    "print(B*C)\n",
    "print()\n",
    "print(B @ C)\n"
   ]
  },
  {
   "cell_type": "markdown",
   "id": "96030d53",
   "metadata": {},
   "source": [
    "### Do the following calculations on the matrix:\n",
    "* Exponentiate each number elementwise (use the np.exp function).\n",
    "\n",
    "* Calculate the minimum value in the whole matrix. \n",
    "* Calculcate the minimum value in each row. \n",
    "* Calculcate the minimum value in each column. \n",
    "\n",
    "\n",
    "* Find the index value for the minimum value in the whole matrix (hint: use np.argmin).\n",
    "* Find the index value for the minimum value in each row (hint: use np.argmin).\n",
    "\n",
    "\n",
    "* Calculate the sum for all elements.\n",
    "* Calculate the mean for each column. \n",
    "* Calculate the median for each column. "
   ]
  },
  {
   "cell_type": "code",
   "execution_count": 2393,
   "id": "f8a9166b",
   "metadata": {},
   "outputs": [
    {
     "name": "stdout",
     "output_type": "stream",
     "text": [
      "[[1 2 3]\n",
      " [4 5 6]\n",
      " [7 8 9]]\n"
     ]
    }
   ],
   "source": [
    "B = np.arange(1, 10).reshape(3, 3)\n",
    "print(B)"
   ]
  },
  {
   "cell_type": "code",
   "execution_count": 2394,
   "id": "f03f24f7",
   "metadata": {},
   "outputs": [
    {
     "name": "stdout",
     "output_type": "stream",
     "text": [
      "[[2.71828183e+00 7.38905610e+00 2.00855369e+01]\n",
      " [5.45981500e+01 1.48413159e+02 4.03428793e+02]\n",
      " [1.09663316e+03 2.98095799e+03 8.10308393e+03]]\n",
      "\n",
      "Minsta värdet i matrisen är 1.\n",
      "\n",
      "Minsta värdena i varje rad är [1 4 7].\n",
      "\n",
      "Minsta värdena i varje rad är [1 2 3].\n",
      "\n",
      "Indexet för minsta värdet är 0.\n",
      "\n",
      "Indexet för minsta värdet i varje rad är [0 0 0].\n",
      "\n",
      "Summan av alla element är 45.\n",
      "\n",
      "Medelvärde på varje koloumn är [4. 5. 6.]\n",
      "\n",
      "Medelvärde på varje koloumn är [4. 5. 6.]\n"
     ]
    }
   ],
   "source": [
    "#1\n",
    "print(np.exp(B))\n",
    "print()\n",
    "\n",
    "#2\n",
    "print(f\"Minsta värdet i matrisen är {B.min()}.\")\n",
    "print()\n",
    "\n",
    "#3\n",
    "min_value_row = np.min(B, axis=1)\n",
    "print(f\"Minsta värdena i varje rad är {min_value_row}.\")\n",
    "print()\n",
    "\n",
    "#4\n",
    "min_value_column = np.min(B, axis=0)\n",
    "print(f\"Minsta värdena i varje rad är {min_value_column}.\")\n",
    "print()\n",
    "\n",
    "#5\n",
    "index_of_min = np.argmin(B)\n",
    "print(f\"Indexet för minsta värdet är {index_of_min}.\")\n",
    "print()\n",
    "\n",
    "#6\n",
    "index_of_min_row = np.argmin(B, axis=1)\n",
    "print(f\"Indexet för minsta värdet i varje rad är {index_of_min_row}.\")\n",
    "print()\n",
    "\n",
    "#7\n",
    "print(f\"Summan av alla element är {B.sum()}.\")\n",
    "print()\n",
    "\n",
    "#8\n",
    "print(f\"Medelvärde på varje koloumn är {np.mean(B, axis=0)}\")\n",
    "print()\n",
    "\n",
    "#9\n",
    "print(f\"Medelvärde på varje koloumn är {np.median(B, axis=0)}\")"
   ]
  },
  {
   "cell_type": "markdown",
   "id": "541eb7ba",
   "metadata": {},
   "source": [
    "### What does it mean when you provide fewer indices than axes when slicing? See example below."
   ]
  },
  {
   "cell_type": "code",
   "execution_count": 2395,
   "id": "9c8abf56",
   "metadata": {},
   "outputs": [
    {
     "name": "stdout",
     "output_type": "stream",
     "text": [
      "[[ 1  2  3  4  5]\n",
      " [ 6  7  8  9 10]\n",
      " [11 12 13 14 15]]\n"
     ]
    }
   ],
   "source": [
    "print(A)"
   ]
  },
  {
   "cell_type": "code",
   "execution_count": 2396,
   "id": "69415f7b",
   "metadata": {},
   "outputs": [
    {
     "data": {
      "text/plain": [
       "array([ 6,  7,  8,  9, 10])"
      ]
     },
     "execution_count": 2396,
     "metadata": {},
     "output_type": "execute_result"
    }
   ],
   "source": [
    "A[1]"
   ]
  },
  {
   "cell_type": "markdown",
   "id": "6c53541b",
   "metadata": {},
   "source": [
    "**Answer:**"
   ]
  },
  {
   "cell_type": "markdown",
   "id": "c03f92e7",
   "metadata": {},
   "source": [
    "Om man använder ett eller färre index än dimentionen på matrisen så kommer Python automatiska tänka att man vill ha allt i den dimensionen."
   ]
  },
  {
   "cell_type": "markdown",
   "id": "6652d0c9",
   "metadata": {},
   "source": [
    "### Iterating over multidimensional arrays is done with respect to the first axis, so in the example below we iterate trough the rows. If you would like to iterate through the array *elementwise*, how would you do that?"
   ]
  },
  {
   "cell_type": "code",
   "execution_count": 2397,
   "id": "9459864f",
   "metadata": {},
   "outputs": [
    {
     "data": {
      "text/plain": [
       "array([[ 1,  2,  3,  4,  5],\n",
       "       [ 6,  7,  8,  9, 10],\n",
       "       [11, 12, 13, 14, 15]])"
      ]
     },
     "execution_count": 2397,
     "metadata": {},
     "output_type": "execute_result"
    }
   ],
   "source": [
    "A"
   ]
  },
  {
   "cell_type": "code",
   "execution_count": 2398,
   "id": "a671bb5a",
   "metadata": {},
   "outputs": [
    {
     "name": "stdout",
     "output_type": "stream",
     "text": [
      "[1 2 3 4 5]\n",
      "[ 6  7  8  9 10]\n",
      "[11 12 13 14 15]\n"
     ]
    }
   ],
   "source": [
    "for i in A:\n",
    "    print(i)"
   ]
  },
  {
   "cell_type": "code",
   "execution_count": 2399,
   "id": "f4e443a0",
   "metadata": {},
   "outputs": [
    {
     "name": "stdout",
     "output_type": "stream",
     "text": [
      "1\n",
      "2\n",
      "3\n",
      "4\n",
      "5\n",
      "6\n",
      "7\n",
      "8\n",
      "9\n",
      "10\n",
      "11\n",
      "12\n",
      "13\n",
      "14\n",
      "15\n"
     ]
    }
   ],
   "source": [
    "for element in A.flat:\n",
    "    print(element)"
   ]
  },
  {
   "cell_type": "markdown",
   "id": "608a2583",
   "metadata": {},
   "source": [
    "### Explain what the code below does. More specifically, b has three axes - what does this mean? "
   ]
  },
  {
   "cell_type": "code",
   "execution_count": 2400,
   "id": "f8f9b26f",
   "metadata": {},
   "outputs": [
    {
     "name": "stdout",
     "output_type": "stream",
     "text": [
      "[ 0  1  2  3  4  5  6  7  8  9 10 11 12 13 14 15 16 17 18 19 20 21 22 23\n",
      " 24 25 26 27 28 29]\n",
      "\n",
      "[[[ 0  1  2  3  4]\n",
      "  [ 5  6  7  8  9]\n",
      "  [10 11 12 13 14]]\n",
      "\n",
      " [[15 16 17 18 19]\n",
      "  [20 21 22 23 24]\n",
      "  [25 26 27 28 29]]]\n"
     ]
    }
   ],
   "source": [
    "a = np.arange(30)\n",
    "b = a.reshape((2, 3, -1))\n",
    "print(a)\n",
    "print()\n",
    "\n",
    "print(b)"
   ]
  },
  {
   "cell_type": "markdown",
   "id": "608b8430",
   "metadata": {},
   "source": [
    "Med .reshape gör vi om array a till en array av tre dimensioner. Första 2:an anger att det ska bara två block och 3:an säger att det ska vara tre rader i dessa block. -1:an lämnar till python att själv räkan ut hur många element det ska vara på varje rad i blocken. I detta fall blir det 5. Vi hade alltså också kunnat skriva b = a.reshape((2, 3, 5)) och fått samma resultat."
   ]
  },
  {
   "cell_type": "markdown",
   "id": "ab5933d5",
   "metadata": {},
   "source": [
    "### Broadcasting\n",
    "**Read the following link about broadcasting: https://numpy.org/doc/stable/user/basics.broadcasting.html#basics-broadcasting**"
   ]
  },
  {
   "cell_type": "markdown",
   "id": "039805ba",
   "metadata": {},
   "source": [
    "# Remark on Broadcasting when doing Linear Algebra calculations in Python. "
   ]
  },
  {
   "cell_type": "markdown",
   "id": "c4bcc147",
   "metadata": {},
   "source": [
    "### From the mathematical rules of matrix addition, the operation below (m1 + m2) does not make sense. The reason is that matrix addition requires two matrices of the same size. In Python however, it works due to broadcasting rules in NumPy. So you must be careful when doing Linear Algebra calculations in Python since they do not follow the \"mathematical rules\". This can however easily be handled by doing some simple programming, for example validating that two matrices have the same shape is easy if you for instance want to add two matrices. "
   ]
  },
  {
   "cell_type": "code",
   "execution_count": 2401,
   "id": "1fd46778",
   "metadata": {},
   "outputs": [
    {
     "name": "stdout",
     "output_type": "stream",
     "text": [
      "[[2 3]\n",
      " [4 5]]\n"
     ]
    }
   ],
   "source": [
    "m1 = np.array([[1, 2], [3, 4]])\n",
    "m2 = np.array([1, 1])\n",
    "\n",
    "print(m1 + m2)"
   ]
  },
  {
   "cell_type": "markdown",
   "id": "047d6576",
   "metadata": {},
   "source": [
    "### The example below would also not be allowed if following the \"mathematical rules\" in Linear Algebra. But it works due to broadcasting in NumPy. "
   ]
  },
  {
   "cell_type": "code",
   "execution_count": 2402,
   "id": "5e6ef2e4",
   "metadata": {},
   "outputs": [
    {
     "name": "stdout",
     "output_type": "stream",
     "text": [
      "[2 3 4]\n"
     ]
    }
   ],
   "source": [
    "v1 = np.array([1, 2, 3])\n",
    "print(v1 + 1)"
   ]
  },
  {
   "cell_type": "code",
   "execution_count": 2403,
   "id": "e2cbae26",
   "metadata": {},
   "outputs": [
    {
     "name": "stdout",
     "output_type": "stream",
     "text": [
      "[[1 2]\n",
      " [3 4]]\n",
      "\n",
      "[2 2]\n"
     ]
    }
   ],
   "source": [
    "A = np.arange(1, 5).reshape(2,2)\n",
    "print(A)\n",
    "print()\n",
    "\n",
    "b = np.array([2, 2])\n",
    "print(b)"
   ]
  },
  {
   "cell_type": "markdown",
   "id": "722fd5cd",
   "metadata": {},
   "source": [
    "# Vector- and matrix algebra Exercises"
   ]
  },
  {
   "cell_type": "markdown",
   "id": "b63a3081-d976-4d9f-bfd0-a63917e79f7d",
   "metadata": {},
   "source": [
    "**Now you are going to create a function that can be reused every time you add or multiply matrices. The function is created so that we do the addition and multiplication according to the rules of vector- and matrix algebra.**\n",
    "\n",
    "**Create a function \"add_mult_matrices\" that takes two matrices as input arguments (validate that the input are of the type numpy.ndarray by using the isinstance function), a third argument that is either 'add' or 'multiply' that specifies if you want to add or multiply the matrices (validate that the third argument is either 'add' or 'multiply'). When doing matrix addition, validate that the matrices have the same size. When doing matrix multiplication, validate that the sizes conform (i.e. number of columns in the first matrix is equal to the number of rows in the second matrix).**"
   ]
  },
  {
   "cell_type": "code",
   "execution_count": 2404,
   "id": "3506f977-ac0a-473f-85bc-eec9f35dc498",
   "metadata": {},
   "outputs": [],
   "source": [
    "def add_mult_matrices(m1, m2, calculation_method):\n",
    "    if not (isinstance(m1, np.ndarray) and isinstance(m2, np.ndarray)):\n",
    "        print(\"Fel: Båda inmatningarna måste vara numpy-arrayer.\")\n",
    "        return\n",
    "    \n",
    "    if calculation_method not in ['add', 'multiply']:\n",
    "        print(\"Fel: calculation_method måste vara antingen 'add' eller 'multiply'.\")\n",
    "        return\n",
    "              \n",
    "    if calculation_method == \"add\":\n",
    "        if m1.shape == m2.shape:\n",
    "            print(\"Resultat av addition:\")\n",
    "            print(m1 + m2)\n",
    "        else:\n",
    "            print(\"Fel: Matriserna har inte samma dimension för addition.\")\n",
    "    \n",
    "    elif calculation_method == \"multiply\":\n",
    "        if m1.shape[1] == m2.shape[0]:\n",
    "            print(\"Resultat av multiplikation:\")\n",
    "            print(m1 @ m2)\n",
    "        else:\n",
    "            print(\"Fel: För multiplikation måste antalet kolumner i första matrisen vara lika med antalet rader i andra matrisen.\")\n",
    "\n",
    "        "
   ]
  },
  {
   "cell_type": "markdown",
   "id": "8dad82d0-2359-4dff-8f5b-a57d3e34103c",
   "metadata": {},
   "source": [
    "### Solve all the exercises in chapter 10.1 in the book \"Matematik för yrkeshögskolan\". "
   ]
  },
  {
   "cell_type": "code",
   "execution_count": 2405,
   "id": "89df88af-3668-4d98-a0a4-e6d92eea0f89",
   "metadata": {},
   "outputs": [
    {
     "name": "stdout",
     "output_type": "stream",
     "text": [
      "1\n",
      "\n",
      "[20 15]\n",
      "\n",
      "[12  9]\n",
      "\n",
      "[32 24]\n",
      "\n",
      "[32 24]\n",
      "\n",
      "[12  9]\n",
      "\n",
      "Beräkna xT och nya dimensionen\n",
      "[[4]\n",
      " [3]]\n",
      "2\n",
      "\n",
      "x + xT är inte definerat eftersom de har inte samma dimension\n",
      "5.0\n",
      "\n",
      "10.1.2\n",
      "[[ 3]\n",
      " [ 7]\n",
      " [ 0]\n",
      " [11]]\n",
      "\n",
      "vektorn v har dimensionen 2.\n",
      "\n",
      "[[ 6]\n",
      " [14]\n",
      " [ 0]\n",
      " [22]]\n",
      "\n",
      "[[21]\n",
      " [49]\n",
      " [ 0]\n",
      " [77]]\n",
      "\n",
      "[[ 6]\n",
      " [14]\n",
      " [ 0]\n",
      " [22]]\n",
      "\n",
      "[[ 3  7  0 11]]\n",
      "vektorn v har dimensionen 2.\n",
      "\n",
      "13.379088160259652\n",
      "\n",
      "[4 3 1 5] [2 3 1 1]\n",
      "7.14142842854285\n",
      "\n",
      "4.47213595499958\n",
      "\n"
     ]
    }
   ],
   "source": [
    "##10.1.1\n",
    "x = np.array([4, 3])\n",
    "\n",
    "#a dimensionen av x\n",
    "print(x.ndim)\n",
    "print()\n",
    "\n",
    "#b 5x\n",
    "print(5*x)\n",
    "print()\n",
    "\n",
    "#c 3x\n",
    "print(3*x)\n",
    "print()\n",
    "\n",
    "#d 5x + 3x\n",
    "print(5*x + 3*x)\n",
    "print()\n",
    "\n",
    "#e 8x\n",
    "print(8*x)\n",
    "print()\n",
    "\n",
    "#f 4x -x\n",
    "print(4*x - x)\n",
    "print()\n",
    "\n",
    "#g xT\n",
    "print(\"Beräkna xT och nya dimensionen\")\n",
    "#print(x)\n",
    "#print(x.T) detta fungerar inte som man tror att det skulle göra.\n",
    "\n",
    "#x_transpose = x.reshape(1,-1).T Skapar en 2d radvektor som sedan transponeras\n",
    "x_transpose = x.reshape(-1,1)   #skapar en 2d (kolumnvektor) 2D array med formen (1, n), där n är antalet element i den ursprungliga arrayen.\n",
    "\n",
    "print(x_transpose)\n",
    "print(x_transpose.ndim)\n",
    "\n",
    "print()\n",
    "\n",
    "#h Är x + xT definerat?\n",
    "print(\"x + xT är inte definerat eftersom de har inte samma dimension\")\n",
    "#print(x + x_transpose) detta ger ett resultat (som inte borde fungera) pga broadcasting\n",
    "\n",
    "#i ||x||\n",
    "print(np.linalg.norm(x))\n",
    "print()\n",
    "\n",
    "\n",
    "\n",
    "##10.1.2\n",
    "print(\"10.1.2\")\n",
    "v = np.array([[3], [7], [0], [11]])\n",
    "print(v)\n",
    "print()\n",
    "\n",
    "\n",
    "#a dimensionen av v\n",
    "print(f\"vektorn v har dimensionen {v.ndim}.\")\n",
    "print()\n",
    "\n",
    "#b 2v\n",
    "print(2*v)\n",
    "print()\n",
    "\n",
    "#c 5v + 2v\n",
    "print(5*v + 2*v)\n",
    "print()\n",
    "\n",
    "#d 4v - 2v\n",
    "print(4*v - 2*v)\n",
    "print()\n",
    "\n",
    "#e vT och dimension på vT\n",
    "print(v.T)\n",
    "print(f\"vektorn v har dimensionen {v.T.ndim}.\")\n",
    "print()\n",
    "\n",
    "#f ||v||\n",
    "print(np.linalg.norm(v))\n",
    "print()\n",
    "\n",
    "##10.1.3\n",
    "v1 = np.array([4,3,1,5])\n",
    "v2 = np.array([2,3,1,1])\n",
    "\n",
    "print(v1, v2)\n",
    "\n",
    "#a ||v1||\n",
    "print(np.linalg.norm(v1))\n",
    "print()\n",
    "\n",
    "#b ||v1-v2||\n",
    "print(np.linalg.norm(v1-v2))\n",
    "print()"
   ]
  },
  {
   "cell_type": "markdown",
   "id": "75c98984-1f88-4df1-b850-d2466de444a5",
   "metadata": {},
   "source": [
    "### Solve all the exercises, except 10.2.4, in chapter 10.2 in the book \"Matematik för yrkeshögskolan\". "
   ]
  },
  {
   "cell_type": "code",
   "execution_count": 2406,
   "id": "65371610-16e1-48b2-b7fb-65e49002608a",
   "metadata": {},
   "outputs": [
    {
     "name": "stdout",
     "output_type": "stream",
     "text": [
      "[[ 4  2 -2]\n",
      " [ 2 -2  2]]\n",
      "\n",
      "[[ 0 -4  3]\n",
      " [ 0 -2 -4]]\n",
      "\n",
      "[[ 1  4]\n",
      " [ 2 -1]]\n",
      "Funkar att göra i numpy pga broadcasting men funkar inte inom vanlig matematik\n",
      "\n",
      "Fel: Matriserna har inte samma dimension för addition.\n",
      "\n",
      "[[3 2]\n",
      " [2 3]]\n",
      "\n",
      "Resultat av addition:\n",
      "[[3 2]\n",
      " [2 3]]\n",
      "\n",
      "Resultat av addition:\n",
      "[[ 9 12]\n",
      " [12  9]]\n",
      "\n",
      "Resultat av addition:\n",
      "[[-4 -4]\n",
      " [-4 -4]]\n",
      "\n",
      "Fel: Matriserna har inte samma dimension för addition.\n",
      "\n",
      "Fel: För multiplikation måste antalet kolumner i första matrisen vara lika med antalet rader i andra matrisen.\n",
      "\n",
      "Resultat av multiplikation:\n",
      "[[11 10]\n",
      " [10 11]]\n",
      "\n",
      "Resultat av multiplikation:\n",
      "[[  8 -10  -3]\n",
      " [ 10  -8   0]]\n",
      "\n",
      "Resultat av multiplikation:\n",
      "[[1 2]\n",
      " [2 1]]\n",
      "\n",
      "Resultat av multiplikation:\n",
      "[[5 2]\n",
      " [7 4]]\n",
      "\n",
      "10.2.2\n",
      "Resultat av multiplikation:\n",
      "[[29 26]\n",
      " [26 42]]\n",
      "\n",
      "10.2.3\n",
      "\n",
      "Resultat av multiplikation:\n",
      "[[ 4  7]\n",
      " [ 8 14]]\n",
      "\n",
      "Resultat av multiplikation:\n",
      "[[ 4  7]\n",
      " [ 8 14]]\n"
     ]
    }
   ],
   "source": [
    "##10.2.1\n",
    "A = np.array([[2,1,-1], [1,-1,1]])\n",
    "B = np.array([[4,-2,1], [2,-4,-2]])\n",
    "C = np.array([[1,2], [2,1]])\n",
    "D = np.array([[3,4], [4,3]])\n",
    "E = np.array([[1], [2]])\n",
    "I = np.array([[1,0], [0,1]])\n",
    "\n",
    "\n",
    "#a 2A\n",
    "print(2*A)\n",
    "print()\n",
    "\n",
    "#b B-2A\n",
    "print(B-2*A)\n",
    "print()\n",
    "\n",
    "\n",
    "#C 3C-2E\n",
    "print(3*C-2*E)\n",
    "print(\"Funkar att göra i numpy pga broadcasting men funkar inte inom vanlig matematik\")\n",
    "print()\n",
    "\n",
    "Three_C = 3*C\n",
    "negativ_Two_E = (-1)*2*E\n",
    "add_mult_matrices(Three_C,negativ_Two_E,\"add\")\n",
    "print()\n",
    "\n",
    "\n",
    "\n",
    "#d 2D-3C\n",
    "print(2*D-3*C)\n",
    "print()\n",
    "\n",
    "Two_D = 2*D\n",
    "negativ_Three_C = (-1)*3*C\n",
    "add_mult_matrices(Two_D,negativ_Three_C,\"add\")\n",
    "print()\n",
    "\n",
    "#e DT + 2D\n",
    "D_transpose = D.T\n",
    "add_mult_matrices(D_transpose,Two_D,\"add\")\n",
    "print()\n",
    "\n",
    "#f 2CT - 2DT\n",
    "Two_C_transpose = 2*C.T\n",
    "negativ_2_D_transpose = (-1)*2*D.T\n",
    "add_mult_matrices(Two_C_transpose,negativ_2_D_transpose,\"add\")\n",
    "print()\n",
    "\n",
    "#g AT - B\n",
    "A_transpose = A.T\n",
    "add_mult_matrices(A_transpose,-B,\"add\")\n",
    "print()\n",
    "\n",
    "#h AC\n",
    "add_mult_matrices(A,C,\"multiply\")\n",
    "print()\n",
    "\n",
    "#i CD\n",
    "add_mult_matrices(C,D,\"multiply\")\n",
    "print()\n",
    "\n",
    "#j CB\n",
    "add_mult_matrices(C,B,\"multiply\")\n",
    "print()\n",
    "\n",
    "#k CI\n",
    "add_mult_matrices(C,I,\"multiply\")\n",
    "print()\n",
    "\n",
    "#l ABT\n",
    "B_transpose = B.T\n",
    "add_mult_matrices(A,B_transpose,\"multiply\")\n",
    "print()\n",
    "\n",
    "\n",
    "##10.2.2\n",
    "print(\"10.2.2\")\n",
    "A = np.array([[2,3,4], [5,4,1]])\n",
    "\n",
    "#Beräkna AAT\n",
    "A_transpose = A.T\n",
    "add_mult_matrices(A,A_transpose,\"multiply\")\n",
    "print()\n",
    "\n",
    "\n",
    "##10.2.3\n",
    "print(\"10.2.3\")\n",
    "print()\n",
    "\n",
    "\n",
    "A = np.array([[1,2], [2,4]])\n",
    "B = np.array([[2,1], [1,3]])    \n",
    "C = np.array([[4,3], [0,2]])\n",
    "\n",
    "# AB = AC men B ≠ C\n",
    "add_mult_matrices(A,B,\"multiply\")\n",
    "print()\n",
    "add_mult_matrices(A,C,\"multiply\")\n",
    "\n"
   ]
  },
  {
   "cell_type": "markdown",
   "id": "6a4a524f",
   "metadata": {},
   "source": [
    "### Copies and Views\n",
    "Read the following link: https://numpy.org/doc/stable/user/basics.copies.html"
   ]
  },
  {
   "cell_type": "markdown",
   "id": "6cbbeaf7",
   "metadata": {},
   "source": [
    "**Basic indexing creates a view, How can you check if v1 and v2 is a view or copy? If you change the last element in v2 to 123, will the last element in v1 be changed? Why?**"
   ]
  },
  {
   "cell_type": "code",
   "execution_count": 2407,
   "id": "5b9ef4df",
   "metadata": {},
   "outputs": [
    {
     "name": "stdout",
     "output_type": "stream",
     "text": [
      "[0 1 2 3]\n",
      "[2 3]\n"
     ]
    }
   ],
   "source": [
    "v1 = np.arange(4)\n",
    "v2 = v1[-2:]\n",
    "print(v1)\n",
    "print(v2)"
   ]
  },
  {
   "cell_type": "code",
   "execution_count": 2408,
   "id": "d2440489",
   "metadata": {},
   "outputs": [
    {
     "name": "stdout",
     "output_type": "stream",
     "text": [
      "None\n",
      "[0 1 2 3]\n"
     ]
    }
   ],
   "source": [
    "# The base attribute of a view returns the original array while it returns None for a copy.\n",
    "print(v1.base)\n",
    "print(v2.base)"
   ]
  },
  {
   "cell_type": "code",
   "execution_count": 2409,
   "id": "c8752807",
   "metadata": {},
   "outputs": [
    {
     "name": "stdout",
     "output_type": "stream",
     "text": [
      "[  0   1   2 123]\n",
      "[  2 123]\n"
     ]
    }
   ],
   "source": [
    "# The last element in v1 will be changed aswell since v2 is a view, meaning they share the same data buffer.\n",
    "v2[-1] = 123\n",
    "print(v1)\n",
    "print(v2)"
   ]
  },
  {
   "cell_type": "code",
   "execution_count": null,
   "id": "3dd68221",
   "metadata": {},
   "outputs": [],
   "source": []
  }
 ],
 "metadata": {
  "kernelspec": {
   "display_name": "venv",
   "language": "python",
   "name": "python3"
  },
  "language_info": {
   "codemirror_mode": {
    "name": "ipython",
    "version": 3
   },
   "file_extension": ".py",
   "mimetype": "text/x-python",
   "name": "python",
   "nbconvert_exporter": "python",
   "pygments_lexer": "ipython3",
   "version": "3.10.8"
  }
 },
 "nbformat": 4,
 "nbformat_minor": 5
}
